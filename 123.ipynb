{
 "cells": [
  {
   "cell_type": "markdown",
   "metadata": {},
   "source": [
    "# Idiosyncratic Market Value Factor: \n",
    "# Explaining market value by machine learning methods"
   ]
  },
  {
   "cell_type": "markdown",
   "metadata": {},
   "source": [
    "## Idea\n",
    "At a given specific time point, market value explanition models think market values of listed firms can be explained by theirs financial informations and market factors.  \n",
    "Under such assumptions, these models will induce an intrinsic market value of a listed firms at a specific time, however, there's always a residue term, which is also the difference between intrinsic value and current market value.  \n",
    "We name this residue term as Idiosyncratic Market Value Factor, larger this factor is, indicating more upper bias is between current firm value and intrinsic value, by the idea of mean-reverting, it is more likely for the stock price to drop.  \n",
    "In other words, this is a way of relative valuation and a smaller IMVF indicates a better performance of the stock. "
   ]
  },
  {
   "cell_type": "markdown",
   "metadata": {},
   "source": [
    "## Variables explanation\n",
    "* $ m_{it} $ is the log-market value of stock $i$ at time $t$  \n",
    "* $ IND_{it} $ is the dummy variables of different industries  \n",
    "* $ b_{it} $ is the log-net asset of stock $i$ at time $t$, except firms whose net asset is negtive    \n",
    "* $ Ln(NI)^+_{it}$ and $ Ln(NI)^-_{it}$ are net income of stock $i$ at time $t$ according to whether their sign  \n",
    "* $ LEV_{it} $ is firm's financial leverage  \n",
    "* $ g_{it} $ is the revenue growth rate (YoY quarterly)   \n",
    "* $ RD_{it} $ is the log-R&D expense, None is replaced by 0  "
   ]
  },
  {
   "cell_type": "markdown",
   "metadata": {},
   "source": [
    "# First sight: Linear Regression\n",
    "\n",
    "Consider following model:  \n",
    "$$ m_{it} = a_{0t}IND_{it}+a_{1t}b_{it}+a_{2t}Ln(NI)^+a_{3t}I_{<0}Ln(NI)^-_{it}+a_{4t}LEV_{it}+a_{5t}g_{it}+a_{6t}RD_{it}+\\epsilon_{it} $$"
   ]
  },
  {
   "cell_type": "markdown",
   "metadata": {},
   "source": [
    "## Machine Learning method: Random Forest\n",
    "Consider Random Forest model:  \n",
    "$$ m_{it} = RF(IND_{it},b_{it},Ln(NI)^,Ln(NI)^-_{it},LEV_{it},g_{it},RD_{it})+\\epsilon_{it} $$"
   ]
  },
  {
   "cell_type": "code",
   "execution_count": 20,
   "metadata": {
    "collapsed": true
   },
   "outputs": [],
   "source": [
    "import numpy as np\n",
    "import pandas as pd\n",
    "import matplotlib.pyplot as plt\n",
    "import warnings\n",
    "warnings.filterwarnings('ignore')"
   ]
  },
  {
   "cell_type": "code",
   "execution_count": 21,
   "metadata": {
    "collapsed": true
   },
   "outputs": [],
   "source": [
    "from quarter2month import quarter2month\n",
    "from Winsorize_Fillna_Neutralize import Winsorize_Fillna_Neutralize\n",
    "import statsmodels.api as sm\n",
    "from sklearn.tree import DecisionTreeRegressor  \n",
    "from sklearn.ensemble import RandomForestRegressor"
   ]
  },
  {
   "cell_type": "markdown",
   "metadata": {},
   "source": [
    "## In this part, we will construct the idiosyncratic market value"
   ]
  },
  {
   "cell_type": "markdown",
   "metadata": {},
   "source": [
    "### Load the raw data"
   ]
  },
  {
   "cell_type": "code",
   "execution_count": 9,
   "metadata": {
    "collapsed": true
   },
   "outputs": [],
   "source": [
    "# Input raw data\n",
    "comp_frm=pd.read_csv('./data/industrycomp.csv')\n",
    "netasset_raw=pd.read_excel('./data/netasset.xlsx')\n",
    "netprofit_raw=pd.read_excel('./data/netprofit_q.xlsx')\n",
    "lev_raw=pd.read_excel('./data/debt2asset.xlsx')\n",
    "yoysales_raw=pd.read_excel('./data/yoysales.xlsx')\n",
    "rd_raw=pd.read_excel('./data/rd.xlsx')\n",
    "value_frm=pd.read_csv('./data/value.csv')\n",
    "retf1_frm=pd.read_csv('./data/retf1.csv')\n",
    "limit_status_frm=pd.read_csv('./data/limit_status_st.csv',encoding='gb18030')\n",
    "tdate=list(value_frm['date'].drop_duplicates())"
   ]
  },
  {
   "cell_type": "markdown",
   "metadata": {},
   "source": [
    "### Transform the seasonal data to monthly data"
   ]
  },
  {
   "cell_type": "code",
   "execution_count": 10,
   "metadata": {
    "collapsed": true
   },
   "outputs": [],
   "source": [
    "netasset_frm=quarter2month(tdate,netasset_raw,'netasset')\n",
    "netprofit_frm=quarter2month(tdate,netprofit_raw,'netprofit')\n",
    "lev_frm=quarter2month(tdate,lev_raw,'lev')\n",
    "yoysales_frm=quarter2month(tdate,yoysales_raw,'yoysales')\n",
    "rd_frm=quarter2month(tdate,rd_raw,'rd')"
   ]
  },
  {
   "cell_type": "markdown",
   "metadata": {},
   "source": [
    "### Merge data"
   ]
  },
  {
   "cell_type": "code",
   "execution_count": 11,
   "metadata": {
    "collapsed": true
   },
   "outputs": [],
   "source": [
    "data=pd.merge(value_frm,netasset_frm,how='inner',on=['date','code'])\n",
    "data=pd.merge(data,netprofit_frm,how='inner',on=['date','code'])\n",
    "data=pd.merge(data,lev_frm,how='inner',on=['date','code'])\n",
    "data=pd.merge(data,yoysales_frm,how='inner',on=['date','code'])\n",
    "data=pd.merge(data,rd_frm,how='inner',on=['date','code'])\n",
    "data=pd.merge(data,comp_frm,how='inner',on=['code'])\n",
    "data=pd.merge(data,retf1_frm,how='inner',on=['date','code'])\n",
    "data=pd.merge(data,limit_status_frm,how='inner',on=['date','code'])\n",
    "data=data[['date','code','totalmv','netasset','netprofit','lev','yoysales','rd','industry','retf1','limit','status']]"
   ]
  },
  {
   "cell_type": "code",
   "execution_count": 17,
   "metadata": {},
   "outputs": [
    {
     "data": {
      "text/html": [
       "<div>\n",
       "<style scoped>\n",
       "    .dataframe tbody tr th:only-of-type {\n",
       "        vertical-align: middle;\n",
       "    }\n",
       "\n",
       "    .dataframe tbody tr th {\n",
       "        vertical-align: top;\n",
       "    }\n",
       "\n",
       "    .dataframe thead th {\n",
       "        text-align: right;\n",
       "    }\n",
       "</style>\n",
       "<table border=\"1\" class=\"dataframe\">\n",
       "  <thead>\n",
       "    <tr style=\"text-align: right;\">\n",
       "      <th></th>\n",
       "      <th>date</th>\n",
       "      <th>code</th>\n",
       "      <th>totalmv</th>\n",
       "      <th>netasset</th>\n",
       "      <th>netprofit</th>\n",
       "      <th>lev</th>\n",
       "      <th>yoysales</th>\n",
       "      <th>rd</th>\n",
       "      <th>industry</th>\n",
       "      <th>retf1</th>\n",
       "      <th>limit</th>\n",
       "      <th>status</th>\n",
       "      <th>logmv</th>\n",
       "      <th>lognetasset</th>\n",
       "      <th>netprofit_abs</th>\n",
       "      <th>lognetprofit</th>\n",
       "      <th>ni_negative</th>\n",
       "    </tr>\n",
       "  </thead>\n",
       "  <tbody>\n",
       "    <tr>\n",
       "      <th>121</th>\n",
       "      <td>20070131</td>\n",
       "      <td>000002.SZ</td>\n",
       "      <td>6.690315e+06</td>\n",
       "      <td>9.948030e+09</td>\n",
       "      <td>1.456485e+09</td>\n",
       "      <td>72.1260</td>\n",
       "      <td>50.5017</td>\n",
       "      <td>0.0</td>\n",
       "      <td>CI005023.WI</td>\n",
       "      <td>-0.037233</td>\n",
       "      <td>0.0</td>\n",
       "      <td>交易</td>\n",
       "      <td>15.716172</td>\n",
       "      <td>23.020640</td>\n",
       "      <td>1.456485e+09</td>\n",
       "      <td>21.099292</td>\n",
       "      <td>0.0</td>\n",
       "    </tr>\n",
       "    <tr>\n",
       "      <th>450</th>\n",
       "      <td>20070131</td>\n",
       "      <td>000006.SZ</td>\n",
       "      <td>3.025348e+05</td>\n",
       "      <td>1.236908e+09</td>\n",
       "      <td>1.772558e+08</td>\n",
       "      <td>55.7914</td>\n",
       "      <td>-20.4864</td>\n",
       "      <td>0.0</td>\n",
       "      <td>CI005023.WI</td>\n",
       "      <td>0.081375</td>\n",
       "      <td>0.0</td>\n",
       "      <td>交易</td>\n",
       "      <td>12.619952</td>\n",
       "      <td>20.935881</td>\n",
       "      <td>1.772558e+08</td>\n",
       "      <td>18.993104</td>\n",
       "      <td>0.0</td>\n",
       "    </tr>\n",
       "    <tr>\n",
       "      <th>573</th>\n",
       "      <td>20070131</td>\n",
       "      <td>000007.SZ</td>\n",
       "      <td>5.382492e+04</td>\n",
       "      <td>6.396426e+07</td>\n",
       "      <td>-2.582537e+07</td>\n",
       "      <td>88.7987</td>\n",
       "      <td>78.1794</td>\n",
       "      <td>0.0</td>\n",
       "      <td>CI005023.WI</td>\n",
       "      <td>0.294960</td>\n",
       "      <td>0.0</td>\n",
       "      <td>交易</td>\n",
       "      <td>10.893492</td>\n",
       "      <td>17.973835</td>\n",
       "      <td>2.582537e+07</td>\n",
       "      <td>17.066868</td>\n",
       "      <td>1.0</td>\n",
       "    </tr>\n",
       "    <tr>\n",
       "      <th>621</th>\n",
       "      <td>20070131</td>\n",
       "      <td>000008.SZ</td>\n",
       "      <td>4.124580e+04</td>\n",
       "      <td>7.230798e+07</td>\n",
       "      <td>-6.278618e+05</td>\n",
       "      <td>7.1045</td>\n",
       "      <td>-74.1205</td>\n",
       "      <td>0.0</td>\n",
       "      <td>CI005010.WI</td>\n",
       "      <td>0.143159</td>\n",
       "      <td>0.0</td>\n",
       "      <td>交易</td>\n",
       "      <td>10.627304</td>\n",
       "      <td>18.096445</td>\n",
       "      <td>6.278618e+05</td>\n",
       "      <td>13.350075</td>\n",
       "      <td>1.0</td>\n",
       "    </tr>\n",
       "    <tr>\n",
       "      <th>1036</th>\n",
       "      <td>20070131</td>\n",
       "      <td>000012.SZ</td>\n",
       "      <td>1.298777e+06</td>\n",
       "      <td>2.559077e+09</td>\n",
       "      <td>3.173672e+08</td>\n",
       "      <td>55.4746</td>\n",
       "      <td>28.0972</td>\n",
       "      <td>0.0</td>\n",
       "      <td>CI005008.WI</td>\n",
       "      <td>0.133759</td>\n",
       "      <td>0.0</td>\n",
       "      <td>交易</td>\n",
       "      <td>14.076934</td>\n",
       "      <td>21.662912</td>\n",
       "      <td>3.173672e+08</td>\n",
       "      <td>19.575570</td>\n",
       "      <td>0.0</td>\n",
       "    </tr>\n",
       "  </tbody>\n",
       "</table>\n",
       "</div>"
      ],
      "text/plain": [
       "          date       code       totalmv      netasset     netprofit      lev  \\\n",
       "121   20070131  000002.SZ  6.690315e+06  9.948030e+09  1.456485e+09  72.1260   \n",
       "450   20070131  000006.SZ  3.025348e+05  1.236908e+09  1.772558e+08  55.7914   \n",
       "573   20070131  000007.SZ  5.382492e+04  6.396426e+07 -2.582537e+07  88.7987   \n",
       "621   20070131  000008.SZ  4.124580e+04  7.230798e+07 -6.278618e+05   7.1045   \n",
       "1036  20070131  000012.SZ  1.298777e+06  2.559077e+09  3.173672e+08  55.4746   \n",
       "\n",
       "      yoysales   rd     industry     retf1  limit status      logmv  \\\n",
       "121    50.5017  0.0  CI005023.WI -0.037233    0.0     交易  15.716172   \n",
       "450   -20.4864  0.0  CI005023.WI  0.081375    0.0     交易  12.619952   \n",
       "573    78.1794  0.0  CI005023.WI  0.294960    0.0     交易  10.893492   \n",
       "621   -74.1205  0.0  CI005010.WI  0.143159    0.0     交易  10.627304   \n",
       "1036   28.0972  0.0  CI005008.WI  0.133759    0.0     交易  14.076934   \n",
       "\n",
       "      lognetasset  netprofit_abs  lognetprofit  ni_negative  \n",
       "121     23.020640   1.456485e+09     21.099292          0.0  \n",
       "450     20.935881   1.772558e+08     18.993104          0.0  \n",
       "573     17.973835   2.582537e+07     17.066868          1.0  \n",
       "621     18.096445   6.278618e+05     13.350075          1.0  \n",
       "1036    21.662912   3.173672e+08     19.575570          0.0  "
      ]
     },
     "execution_count": 17,
     "metadata": {},
     "output_type": "execute_result"
    }
   ],
   "source": [
    "data.head()"
   ]
  },
  {
   "cell_type": "markdown",
   "metadata": {},
   "source": [
    "### Construct responding variable"
   ]
  },
  {
   "cell_type": "code",
   "execution_count": 18,
   "metadata": {
    "collapsed": true
   },
   "outputs": [],
   "source": [
    "data=data.loc[np.where((~np.isnan(data['totalmv'])) & (~np.isnan(data['netasset'])) & (data['netasset']>0) & (~np.isnan(data['netprofit'])) & (~np.isnan(data['lev'])) & (~np.isnan(data['yoysales'])) & (~np.isnan(data['retf1'])) & (data['limit']==0) & (data['status']=='交易'))[0]]\n",
    "data=data.reset_index(drop=True)\n",
    "data['rd']=data['rd'].fillna(0)\n",
    "data.loc[np.where(data['rd']>0)[0],'rd']=1\n",
    "data['logmv']=np.log(data['totalmv'])\n",
    "data['lognetasset']=np.log(data['netasset'])\n",
    "data['netprofit_abs']=np.abs(data['netprofit'])\n",
    "data['lognetprofit']=np.log(data['netprofit_abs'])\n",
    "data.loc[np.where(data['netprofit']<0)[0],'ni_negative']=1\n",
    "data['ni_negative']=data['ni_negative'].fillna(0)\n",
    "data=data.sort_values(by=['date','code'],axis=0,ascending=True)\n",
    "datadate=list(data['date'].drop_duplicates())"
   ]
  },
  {
   "cell_type": "code",
   "execution_count": 14,
   "metadata": {
    "scrolled": true
   },
   "outputs": [
    {
     "data": {
      "text/html": [
       "<div>\n",
       "<style scoped>\n",
       "    .dataframe tbody tr th:only-of-type {\n",
       "        vertical-align: middle;\n",
       "    }\n",
       "\n",
       "    .dataframe tbody tr th {\n",
       "        vertical-align: top;\n",
       "    }\n",
       "\n",
       "    .dataframe thead th {\n",
       "        text-align: right;\n",
       "    }\n",
       "</style>\n",
       "<table border=\"1\" class=\"dataframe\">\n",
       "  <thead>\n",
       "    <tr style=\"text-align: right;\">\n",
       "      <th></th>\n",
       "      <th>date</th>\n",
       "      <th>code</th>\n",
       "      <th>totalmv</th>\n",
       "      <th>netasset</th>\n",
       "      <th>netprofit</th>\n",
       "      <th>lev</th>\n",
       "      <th>yoysales</th>\n",
       "      <th>rd</th>\n",
       "      <th>industry</th>\n",
       "      <th>retf1</th>\n",
       "      <th>limit</th>\n",
       "      <th>status</th>\n",
       "      <th>logmv</th>\n",
       "      <th>lognetasset</th>\n",
       "      <th>netprofit_abs</th>\n",
       "      <th>lognetprofit</th>\n",
       "      <th>ni_negative</th>\n",
       "    </tr>\n",
       "  </thead>\n",
       "  <tbody>\n",
       "    <tr>\n",
       "      <th>121</th>\n",
       "      <td>20070131</td>\n",
       "      <td>000002.SZ</td>\n",
       "      <td>6.690315e+06</td>\n",
       "      <td>9.948030e+09</td>\n",
       "      <td>1.456485e+09</td>\n",
       "      <td>72.1260</td>\n",
       "      <td>50.5017</td>\n",
       "      <td>0.0</td>\n",
       "      <td>CI005023.WI</td>\n",
       "      <td>-0.037233</td>\n",
       "      <td>0.0</td>\n",
       "      <td>交易</td>\n",
       "      <td>15.716172</td>\n",
       "      <td>23.020640</td>\n",
       "      <td>1.456485e+09</td>\n",
       "      <td>21.099292</td>\n",
       "      <td>0.0</td>\n",
       "    </tr>\n",
       "    <tr>\n",
       "      <th>450</th>\n",
       "      <td>20070131</td>\n",
       "      <td>000006.SZ</td>\n",
       "      <td>3.025348e+05</td>\n",
       "      <td>1.236908e+09</td>\n",
       "      <td>1.772558e+08</td>\n",
       "      <td>55.7914</td>\n",
       "      <td>-20.4864</td>\n",
       "      <td>0.0</td>\n",
       "      <td>CI005023.WI</td>\n",
       "      <td>0.081375</td>\n",
       "      <td>0.0</td>\n",
       "      <td>交易</td>\n",
       "      <td>12.619952</td>\n",
       "      <td>20.935881</td>\n",
       "      <td>1.772558e+08</td>\n",
       "      <td>18.993104</td>\n",
       "      <td>0.0</td>\n",
       "    </tr>\n",
       "    <tr>\n",
       "      <th>573</th>\n",
       "      <td>20070131</td>\n",
       "      <td>000007.SZ</td>\n",
       "      <td>5.382492e+04</td>\n",
       "      <td>6.396426e+07</td>\n",
       "      <td>-2.582537e+07</td>\n",
       "      <td>88.7987</td>\n",
       "      <td>78.1794</td>\n",
       "      <td>0.0</td>\n",
       "      <td>CI005023.WI</td>\n",
       "      <td>0.294960</td>\n",
       "      <td>0.0</td>\n",
       "      <td>交易</td>\n",
       "      <td>10.893492</td>\n",
       "      <td>17.973835</td>\n",
       "      <td>2.582537e+07</td>\n",
       "      <td>17.066868</td>\n",
       "      <td>1.0</td>\n",
       "    </tr>\n",
       "    <tr>\n",
       "      <th>621</th>\n",
       "      <td>20070131</td>\n",
       "      <td>000008.SZ</td>\n",
       "      <td>4.124580e+04</td>\n",
       "      <td>7.230798e+07</td>\n",
       "      <td>-6.278618e+05</td>\n",
       "      <td>7.1045</td>\n",
       "      <td>-74.1205</td>\n",
       "      <td>0.0</td>\n",
       "      <td>CI005010.WI</td>\n",
       "      <td>0.143159</td>\n",
       "      <td>0.0</td>\n",
       "      <td>交易</td>\n",
       "      <td>10.627304</td>\n",
       "      <td>18.096445</td>\n",
       "      <td>6.278618e+05</td>\n",
       "      <td>13.350075</td>\n",
       "      <td>1.0</td>\n",
       "    </tr>\n",
       "    <tr>\n",
       "      <th>1036</th>\n",
       "      <td>20070131</td>\n",
       "      <td>000012.SZ</td>\n",
       "      <td>1.298777e+06</td>\n",
       "      <td>2.559077e+09</td>\n",
       "      <td>3.173672e+08</td>\n",
       "      <td>55.4746</td>\n",
       "      <td>28.0972</td>\n",
       "      <td>0.0</td>\n",
       "      <td>CI005008.WI</td>\n",
       "      <td>0.133759</td>\n",
       "      <td>0.0</td>\n",
       "      <td>交易</td>\n",
       "      <td>14.076934</td>\n",
       "      <td>21.662912</td>\n",
       "      <td>3.173672e+08</td>\n",
       "      <td>19.575570</td>\n",
       "      <td>0.0</td>\n",
       "    </tr>\n",
       "  </tbody>\n",
       "</table>\n",
       "</div>"
      ],
      "text/plain": [
       "          date       code       totalmv      netasset     netprofit      lev  \\\n",
       "121   20070131  000002.SZ  6.690315e+06  9.948030e+09  1.456485e+09  72.1260   \n",
       "450   20070131  000006.SZ  3.025348e+05  1.236908e+09  1.772558e+08  55.7914   \n",
       "573   20070131  000007.SZ  5.382492e+04  6.396426e+07 -2.582537e+07  88.7987   \n",
       "621   20070131  000008.SZ  4.124580e+04  7.230798e+07 -6.278618e+05   7.1045   \n",
       "1036  20070131  000012.SZ  1.298777e+06  2.559077e+09  3.173672e+08  55.4746   \n",
       "\n",
       "      yoysales   rd     industry     retf1  limit status      logmv  \\\n",
       "121    50.5017  0.0  CI005023.WI -0.037233    0.0     交易  15.716172   \n",
       "450   -20.4864  0.0  CI005023.WI  0.081375    0.0     交易  12.619952   \n",
       "573    78.1794  0.0  CI005023.WI  0.294960    0.0     交易  10.893492   \n",
       "621   -74.1205  0.0  CI005010.WI  0.143159    0.0     交易  10.627304   \n",
       "1036   28.0972  0.0  CI005008.WI  0.133759    0.0     交易  14.076934   \n",
       "\n",
       "      lognetasset  netprofit_abs  lognetprofit  ni_negative  \n",
       "121     23.020640   1.456485e+09     21.099292          0.0  \n",
       "450     20.935881   1.772558e+08     18.993104          0.0  \n",
       "573     17.973835   2.582537e+07     17.066868          1.0  \n",
       "621     18.096445   6.278618e+05     13.350075          1.0  \n",
       "1036    21.662912   3.173672e+08     19.575570          0.0  "
      ]
     },
     "execution_count": 14,
     "metadata": {},
     "output_type": "execute_result"
    }
   ],
   "source": [
    "data.head()"
   ]
  },
  {
   "cell_type": "markdown",
   "metadata": {},
   "source": [
    "### Construct linear_IMV and randomforest_IMV"
   ]
  },
  {
   "cell_type": "code",
   "execution_count": 25,
   "metadata": {},
   "outputs": [
    {
     "name": "stdout",
     "output_type": "stream",
     "text": [
      "Calculating Idiosyncratic Market Value in Period: 20070131\n",
      "Calculating Idiosyncratic Market Value in Period: 20070228\n",
      "Calculating Idiosyncratic Market Value in Period: 20070330\n",
      "Calculating Idiosyncratic Market Value in Period: 20070430\n",
      "Calculating Idiosyncratic Market Value in Period: 20070531\n",
      "Calculating Idiosyncratic Market Value in Period: 20070629\n",
      "Calculating Idiosyncratic Market Value in Period: 20070731\n",
      "Calculating Idiosyncratic Market Value in Period: 20070831\n",
      "Calculating Idiosyncratic Market Value in Period: 20070928\n",
      "Calculating Idiosyncratic Market Value in Period: 20071031\n",
      "Calculating Idiosyncratic Market Value in Period: 20071130\n",
      "Calculating Idiosyncratic Market Value in Period: 20071228\n",
      "Calculating Idiosyncratic Market Value in Period: 20080131\n",
      "Calculating Idiosyncratic Market Value in Period: 20080229\n",
      "Calculating Idiosyncratic Market Value in Period: 20080331\n",
      "Calculating Idiosyncratic Market Value in Period: 20080430\n",
      "Calculating Idiosyncratic Market Value in Period: 20080530\n",
      "Calculating Idiosyncratic Market Value in Period: 20080630\n",
      "Calculating Idiosyncratic Market Value in Period: 20080731\n",
      "Calculating Idiosyncratic Market Value in Period: 20080829\n",
      "Calculating Idiosyncratic Market Value in Period: 20080926\n",
      "Calculating Idiosyncratic Market Value in Period: 20081031\n",
      "Calculating Idiosyncratic Market Value in Period: 20081128\n",
      "Calculating Idiosyncratic Market Value in Period: 20081231\n",
      "Calculating Idiosyncratic Market Value in Period: 20090123\n",
      "Calculating Idiosyncratic Market Value in Period: 20090227\n",
      "Calculating Idiosyncratic Market Value in Period: 20090331\n",
      "Calculating Idiosyncratic Market Value in Period: 20090430\n",
      "Calculating Idiosyncratic Market Value in Period: 20090527\n",
      "Calculating Idiosyncratic Market Value in Period: 20090630\n",
      "Calculating Idiosyncratic Market Value in Period: 20090731\n",
      "Calculating Idiosyncratic Market Value in Period: 20090831\n",
      "Calculating Idiosyncratic Market Value in Period: 20090930\n",
      "Calculating Idiosyncratic Market Value in Period: 20091030\n",
      "Calculating Idiosyncratic Market Value in Period: 20091130\n",
      "Calculating Idiosyncratic Market Value in Period: 20091231\n",
      "Calculating Idiosyncratic Market Value in Period: 20100129\n",
      "Calculating Idiosyncratic Market Value in Period: 20100226\n",
      "Calculating Idiosyncratic Market Value in Period: 20100331\n",
      "Calculating Idiosyncratic Market Value in Period: 20100430\n",
      "Calculating Idiosyncratic Market Value in Period: 20100531\n",
      "Calculating Idiosyncratic Market Value in Period: 20100630\n",
      "Calculating Idiosyncratic Market Value in Period: 20100730\n",
      "Calculating Idiosyncratic Market Value in Period: 20100831\n",
      "Calculating Idiosyncratic Market Value in Period: 20100930\n",
      "Calculating Idiosyncratic Market Value in Period: 20101029\n",
      "Calculating Idiosyncratic Market Value in Period: 20101130\n",
      "Calculating Idiosyncratic Market Value in Period: 20101231\n",
      "Calculating Idiosyncratic Market Value in Period: 20110131\n",
      "Calculating Idiosyncratic Market Value in Period: 20110228\n",
      "Calculating Idiosyncratic Market Value in Period: 20110331\n",
      "Calculating Idiosyncratic Market Value in Period: 20110429\n",
      "Calculating Idiosyncratic Market Value in Period: 20110531\n",
      "Calculating Idiosyncratic Market Value in Period: 20110630\n",
      "Calculating Idiosyncratic Market Value in Period: 20110729\n",
      "Calculating Idiosyncratic Market Value in Period: 20110831\n",
      "Calculating Idiosyncratic Market Value in Period: 20110930\n",
      "Calculating Idiosyncratic Market Value in Period: 20111031\n",
      "Calculating Idiosyncratic Market Value in Period: 20111130\n",
      "Calculating Idiosyncratic Market Value in Period: 20111230\n",
      "Calculating Idiosyncratic Market Value in Period: 20120131\n",
      "Calculating Idiosyncratic Market Value in Period: 20120229\n",
      "Calculating Idiosyncratic Market Value in Period: 20120330\n",
      "Calculating Idiosyncratic Market Value in Period: 20120427\n",
      "Calculating Idiosyncratic Market Value in Period: 20120531\n",
      "Calculating Idiosyncratic Market Value in Period: 20120629\n",
      "Calculating Idiosyncratic Market Value in Period: 20120731\n",
      "Calculating Idiosyncratic Market Value in Period: 20120831\n",
      "Calculating Idiosyncratic Market Value in Period: 20120928\n",
      "Calculating Idiosyncratic Market Value in Period: 20121031\n",
      "Calculating Idiosyncratic Market Value in Period: 20121130\n",
      "Calculating Idiosyncratic Market Value in Period: 20121231\n",
      "Calculating Idiosyncratic Market Value in Period: 20130131\n",
      "Calculating Idiosyncratic Market Value in Period: 20130228\n",
      "Calculating Idiosyncratic Market Value in Period: 20130329\n",
      "Calculating Idiosyncratic Market Value in Period: 20130426\n",
      "Calculating Idiosyncratic Market Value in Period: 20130531\n",
      "Calculating Idiosyncratic Market Value in Period: 20130628\n",
      "Calculating Idiosyncratic Market Value in Period: 20130731\n",
      "Calculating Idiosyncratic Market Value in Period: 20130830\n",
      "Calculating Idiosyncratic Market Value in Period: 20130930\n",
      "Calculating Idiosyncratic Market Value in Period: 20131031\n",
      "Calculating Idiosyncratic Market Value in Period: 20131129\n",
      "Calculating Idiosyncratic Market Value in Period: 20131231\n",
      "Calculating Idiosyncratic Market Value in Period: 20140130\n",
      "Calculating Idiosyncratic Market Value in Period: 20140228\n",
      "Calculating Idiosyncratic Market Value in Period: 20140331\n",
      "Calculating Idiosyncratic Market Value in Period: 20140430\n",
      "Calculating Idiosyncratic Market Value in Period: 20140530\n",
      "Calculating Idiosyncratic Market Value in Period: 20140630\n",
      "Calculating Idiosyncratic Market Value in Period: 20140731\n",
      "Calculating Idiosyncratic Market Value in Period: 20140829\n",
      "Calculating Idiosyncratic Market Value in Period: 20140930\n",
      "Calculating Idiosyncratic Market Value in Period: 20141031\n",
      "Calculating Idiosyncratic Market Value in Period: 20141128\n",
      "Calculating Idiosyncratic Market Value in Period: 20141231\n",
      "Calculating Idiosyncratic Market Value in Period: 20150130\n",
      "Calculating Idiosyncratic Market Value in Period: 20150227\n",
      "Calculating Idiosyncratic Market Value in Period: 20150331\n",
      "Calculating Idiosyncratic Market Value in Period: 20150430\n",
      "Calculating Idiosyncratic Market Value in Period: 20150529\n",
      "Calculating Idiosyncratic Market Value in Period: 20150630\n",
      "Calculating Idiosyncratic Market Value in Period: 20150731\n",
      "Calculating Idiosyncratic Market Value in Period: 20150831\n",
      "Calculating Idiosyncratic Market Value in Period: 20150930\n",
      "Calculating Idiosyncratic Market Value in Period: 20151030\n",
      "Calculating Idiosyncratic Market Value in Period: 20151130\n",
      "Calculating Idiosyncratic Market Value in Period: 20151231\n",
      "Calculating Idiosyncratic Market Value in Period: 20160129\n",
      "Calculating Idiosyncratic Market Value in Period: 20160229\n",
      "Calculating Idiosyncratic Market Value in Period: 20160331\n",
      "Calculating Idiosyncratic Market Value in Period: 20160429\n",
      "Calculating Idiosyncratic Market Value in Period: 20160531\n",
      "Calculating Idiosyncratic Market Value in Period: 20160630\n",
      "Calculating Idiosyncratic Market Value in Period: 20160729\n",
      "Calculating Idiosyncratic Market Value in Period: 20160831\n",
      "Calculating Idiosyncratic Market Value in Period: 20160930\n",
      "Calculating Idiosyncratic Market Value in Period: 20161031\n",
      "Calculating Idiosyncratic Market Value in Period: 20161130\n",
      "Calculating Idiosyncratic Market Value in Period: 20161230\n",
      "Calculating Idiosyncratic Market Value in Period: 20170126\n",
      "Calculating Idiosyncratic Market Value in Period: 20170228\n",
      "Calculating Idiosyncratic Market Value in Period: 20170331\n",
      "Calculating Idiosyncratic Market Value in Period: 20170428\n",
      "Calculating Idiosyncratic Market Value in Period: 20170531\n",
      "Calculating Idiosyncratic Market Value in Period: 20170630\n",
      "Calculating Idiosyncratic Market Value in Period: 20170731\n",
      "Calculating Idiosyncratic Market Value in Period: 20170831\n",
      "Calculating Idiosyncratic Market Value in Period: 20170929\n",
      "Calculating Idiosyncratic Market Value in Period: 20171031\n",
      "Calculating Idiosyncratic Market Value in Period: 20171130\n",
      "Calculating Idiosyncratic Market Value in Period: 20171229\n"
     ]
    }
   ],
   "source": [
    "linear_params = []\n",
    "rf_importance = []\n",
    "r_squared = []\n",
    "R_square_rf=[]\n",
    "for i in range(len(datadate)):#\n",
    "    print('Calculating Idiosyncratic Market Value in Period: '+str(datadate[i]))\n",
    "    data_sel=data[data.date==datadate[i]]\n",
    "    industrydummies=pd.get_dummies(data_sel['industry'])\n",
    "    x_mat=pd.concat([industrydummies,data_sel['lognetasset'],data_sel['lognetprofit'],\n",
    "                     data_sel['ni_negative']*data_sel['lognetprofit'],data_sel['lev'],data_sel['yoysales'],data_sel['rd']],axis=1)\n",
    "    x=sm.add_constant(x_mat)\n",
    "    y=np.array(data_sel['logmv'])\n",
    "    model = sm.OLS(y,x)\n",
    "    results = model.fit()\n",
    "    data_sel['linear_spemv']=results.resid\n",
    "    linear_params.append(pd.DataFrame(results.params,columns=[datadate[i]]))\n",
    "    r_squared.append(results.rsquared)\n",
    "    rf=RandomForestRegressor(n_estimators=500)\n",
    "    rf.fit(x_mat,y)\n",
    "    data_sel['rf_spemv']=y-rf.predict(x_mat)\n",
    "    TSS=np.dot(y-np.mean(y),y-np.mean(y))\n",
    "    ESS=np.dot(rf.predict(x_mat)-np.mean(y),rf.predict(x_mat)-np.mean(y))\n",
    "    R_square_rf.append(ESS/TSS)\n",
    "    rf_importance.append(pd.DataFrame(rf.feature_importances_,index=x_mat.columns,columns=[datadate[i]]))\n",
    "    if i==0:\n",
    "        data_new=data_sel\n",
    "    else:\n",
    "        data_new=pd.concat([data_new,data_sel],axis=0)"
   ]
  },
  {
   "cell_type": "markdown",
   "metadata": {},
   "source": [
    "### The average of r_square in Linear model and RandomForest model"
   ]
  },
  {
   "cell_type": "code",
   "execution_count": 26,
   "metadata": {},
   "outputs": [
    {
     "data": {
      "text/plain": [
       "0.7948704345688904"
      ]
     },
     "execution_count": 26,
     "metadata": {},
     "output_type": "execute_result"
    }
   ],
   "source": [
    "np.mean(r_squared)"
   ]
  },
  {
   "cell_type": "code",
   "execution_count": 27,
   "metadata": {},
   "outputs": [
    {
     "data": {
      "text/plain": [
       "0.8969009269123783"
      ]
     },
     "execution_count": 27,
     "metadata": {},
     "output_type": "execute_result"
    }
   ],
   "source": [
    "np.mean(R_square_rf)"
   ]
  },
  {
   "cell_type": "markdown",
   "metadata": {},
   "source": [
    "### Analyze the linear params significance and feature importance"
   ]
  },
  {
   "cell_type": "code",
   "execution_count": 28,
   "metadata": {
    "collapsed": true
   },
   "outputs": [],
   "source": [
    "lr_params = pd.concat(linear_params,axis=1).T\n",
    "lr_params.index = pd.to_datetime([str(dt) for dt in lr_params.index])\n",
    "rf_im=pd.concat(rf_importance,axis=1).T\n",
    "rf_im.index = pd.to_datetime([str(dt) for dt in rf_im.index])"
   ]
  },
  {
   "cell_type": "code",
   "execution_count": 29,
   "metadata": {},
   "outputs": [
    {
     "data": {
      "text/plain": [
       "<matplotlib.axes._subplots.AxesSubplot at 0x26d3db4c278>"
      ]
     },
     "execution_count": 29,
     "metadata": {},
     "output_type": "execute_result"
    },
    {
     "data": {
      "image/png": "[encoded data removed]",
      "text/plain": [
       "<matplotlib.figure.Figure at 0x26d3d472ef0>"
      ]
     },
     "metadata": {},
     "output_type": "display_data"
    }
   ],
   "source": [
    "lr_params.iloc[:,-6:].plot(figsize=(12,5),title='feature importance time series in randomforest')"
   ]
  },
  {
   "cell_type": "code",
   "execution_count": 30,
   "metadata": {},
   "outputs": [
    {
     "data": {
      "text/plain": [
       "<matplotlib.axes._subplots.AxesSubplot at 0x26d3deb24a8>"
      ]
     },
     "execution_count": 30,
     "metadata": {},
     "output_type": "execute_result"
    },
    {
     "data": {
      "image/png": "[encoded data removed]",
      "text/plain": [
       "<matplotlib.figure.Figure at 0x26d3dec6e48>"
      ]
     },
     "metadata": {},
     "output_type": "display_data"
    }
   ],
   "source": [
    "rf_im.iloc[:,-6:].plot(figsize=(12,5),title='linear params time series')"
   ]
  },
  {
   "cell_type": "code",
   "execution_count": 31,
   "metadata": {
    "collapsed": true
   },
   "outputs": [],
   "source": [
    "# calculate t-statistics\n",
    "def t(s):\n",
    "    dev = np.sqrt(np.power(s-s.mean(),2).sum()/(len(s)-1))\n",
    "    return s.mean()/dev"
   ]
  },
  {
   "cell_type": "markdown",
   "metadata": {},
   "source": [
    "### Linear model parameter significance and mean"
   ]
  },
  {
   "cell_type": "code",
   "execution_count": 32,
   "metadata": {
    "collapsed": true
   },
   "outputs": [],
   "source": [
    "lr_t = lr_params.iloc[:,-6:].agg([t,np.mean]).T"
   ]
  },
  {
   "cell_type": "code",
   "execution_count": 33,
   "metadata": {},
   "outputs": [
    {
     "data": {
      "text/html": [
       "<div>\n",
       "<style scoped>\n",
       "    .dataframe tbody tr th:only-of-type {\n",
       "        vertical-align: middle;\n",
       "    }\n",
       "\n",
       "    .dataframe tbody tr th {\n",
       "        vertical-align: top;\n",
       "    }\n",
       "\n",
       "    .dataframe thead th {\n",
       "        text-align: right;\n",
       "    }\n",
       "</style>\n",
       "<table border=\"1\" class=\"dataframe\">\n",
       "  <thead>\n",
       "    <tr style=\"text-align: right;\">\n",
       "      <th></th>\n",
       "      <th>t</th>\n",
       "      <th>mean</th>\n",
       "    </tr>\n",
       "  </thead>\n",
       "  <tbody>\n",
       "    <tr>\n",
       "      <th>lognetasset</th>\n",
       "      <td>7.063372</td>\n",
       "      <td>0.488900</td>\n",
       "    </tr>\n",
       "    <tr>\n",
       "      <th>lognetprofit</th>\n",
       "      <td>5.293597</td>\n",
       "      <td>0.175467</td>\n",
       "    </tr>\n",
       "    <tr>\n",
       "      <th>0</th>\n",
       "      <td>-0.898149</td>\n",
       "      <td>-0.003875</td>\n",
       "    </tr>\n",
       "    <tr>\n",
       "      <th>lev</th>\n",
       "      <td>2.334264</td>\n",
       "      <td>0.003085</td>\n",
       "    </tr>\n",
       "    <tr>\n",
       "      <th>yoysales</th>\n",
       "      <td>0.418659</td>\n",
       "      <td>0.000022</td>\n",
       "    </tr>\n",
       "    <tr>\n",
       "      <th>rd</th>\n",
       "      <td>0.213878</td>\n",
       "      <td>0.011065</td>\n",
       "    </tr>\n",
       "  </tbody>\n",
       "</table>\n",
       "</div>"
      ],
      "text/plain": [
       "                     t      mean\n",
       "lognetasset   7.063372  0.488900\n",
       "lognetprofit  5.293597  0.175467\n",
       "0            -0.898149 -0.003875\n",
       "lev           2.334264  0.003085\n",
       "yoysales      0.418659  0.000022\n",
       "rd            0.213878  0.011065"
      ]
     },
     "execution_count": 33,
     "metadata": {},
     "output_type": "execute_result"
    }
   ],
   "source": [
    "lr_t"
   ]
  },
  {
   "cell_type": "markdown",
   "metadata": {},
   "source": [
    "### Random forest feature importance"
   ]
  },
  {
   "cell_type": "code",
   "execution_count": 34,
   "metadata": {
    "collapsed": true
   },
   "outputs": [],
   "source": [
    "rf_t = rf_im.iloc[:,-6:].apply(np.mean).T"
   ]
  },
  {
   "cell_type": "code",
   "execution_count": 35,
   "metadata": {},
   "outputs": [
    {
     "data": {
      "text/html": [
       "<div>\n",
       "<style scoped>\n",
       "    .dataframe tbody tr th:only-of-type {\n",
       "        vertical-align: middle;\n",
       "    }\n",
       "\n",
       "    .dataframe tbody tr th {\n",
       "        vertical-align: top;\n",
       "    }\n",
       "\n",
       "    .dataframe thead th {\n",
       "        text-align: right;\n",
       "    }\n",
       "</style>\n",
       "<table border=\"1\" class=\"dataframe\">\n",
       "  <thead>\n",
       "    <tr style=\"text-align: right;\">\n",
       "      <th></th>\n",
       "      <th>feature_importance</th>\n",
       "    </tr>\n",
       "  </thead>\n",
       "  <tbody>\n",
       "    <tr>\n",
       "      <th>lognetasset</th>\n",
       "      <td>0.599446</td>\n",
       "    </tr>\n",
       "    <tr>\n",
       "      <th>lognetprofit</th>\n",
       "      <td>0.277495</td>\n",
       "    </tr>\n",
       "    <tr>\n",
       "      <th>0</th>\n",
       "      <td>0.007619</td>\n",
       "    </tr>\n",
       "    <tr>\n",
       "      <th>lev</th>\n",
       "      <td>0.031348</td>\n",
       "    </tr>\n",
       "    <tr>\n",
       "      <th>yoysales</th>\n",
       "      <td>0.034898</td>\n",
       "    </tr>\n",
       "    <tr>\n",
       "      <th>rd</th>\n",
       "      <td>0.000019</td>\n",
       "    </tr>\n",
       "  </tbody>\n",
       "</table>\n",
       "</div>"
      ],
      "text/plain": [
       "              feature_importance\n",
       "lognetasset             0.599446\n",
       "lognetprofit            0.277495\n",
       "0                       0.007619\n",
       "lev                     0.031348\n",
       "yoysales                0.034898\n",
       "rd                      0.000019"
      ]
     },
     "execution_count": 35,
     "metadata": {},
     "output_type": "execute_result"
    }
   ],
   "source": [
    "pd.DataFrame(rf_t,columns=['feature_importance'])"
   ]
  },
  {
   "cell_type": "markdown",
   "metadata": {},
   "source": [
    "### Winsorize and Neutralize"
   ]
  },
  {
   "cell_type": "code",
   "execution_count": 36,
   "metadata": {
    "collapsed": true
   },
   "outputs": [],
   "source": [
    "# Factor processing\n",
    "data_new=Winsorize_Fillna_Neutralize(data_new,'linear_spemv')\n",
    "data_new=Winsorize_Fillna_Neutralize(data_new,'rf_spemv')\n",
    "# data_new.to_csv('data2.csv',index=False)"
   ]
  },
  {
   "cell_type": "code",
   "execution_count": 37,
   "metadata": {
    "collapsed": true
   },
   "outputs": [],
   "source": [
    "data=pd.read_csv('./data/data3.csv',encoding='gb18030')\n",
    "data.date = pd.to_datetime([str(dt) for dt in data.date])"
   ]
  },
  {
   "cell_type": "code",
   "execution_count": 38,
   "metadata": {
    "scrolled": true
   },
   "outputs": [
    {
     "data": {
      "text/html": [
       "<div>\n",
       "<style scoped>\n",
       "    .dataframe tbody tr th:only-of-type {\n",
       "        vertical-align: middle;\n",
       "    }\n",
       "\n",
       "    .dataframe tbody tr th {\n",
       "        vertical-align: top;\n",
       "    }\n",
       "\n",
       "    .dataframe thead th {\n",
       "        text-align: right;\n",
       "    }\n",
       "</style>\n",
       "<table border=\"1\" class=\"dataframe\">\n",
       "  <thead>\n",
       "    <tr style=\"text-align: right;\">\n",
       "      <th></th>\n",
       "      <th>date</th>\n",
       "      <th>code</th>\n",
       "      <th>totalmv</th>\n",
       "      <th>netasset</th>\n",
       "      <th>netprofit</th>\n",
       "      <th>lev</th>\n",
       "      <th>yoysales</th>\n",
       "      <th>rd</th>\n",
       "      <th>industry</th>\n",
       "      <th>retf1</th>\n",
       "      <th>limit</th>\n",
       "      <th>status</th>\n",
       "      <th>logmv</th>\n",
       "      <th>lognetasset</th>\n",
       "      <th>netprofit_abs</th>\n",
       "      <th>lognetprofit</th>\n",
       "      <th>ni_negative</th>\n",
       "      <th>linear_spemv</th>\n",
       "      <th>rf_spemv</th>\n",
       "    </tr>\n",
       "  </thead>\n",
       "  <tbody>\n",
       "    <tr>\n",
       "      <th>0</th>\n",
       "      <td>2007-01-31</td>\n",
       "      <td>000002.SZ</td>\n",
       "      <td>6.690315e+06</td>\n",
       "      <td>9.948030e+09</td>\n",
       "      <td>1.456485e+09</td>\n",
       "      <td>72.1260</td>\n",
       "      <td>50.5017</td>\n",
       "      <td>0</td>\n",
       "      <td>CI005023.WI</td>\n",
       "      <td>-0.037233</td>\n",
       "      <td>0</td>\n",
       "      <td>交易</td>\n",
       "      <td>15.716172</td>\n",
       "      <td>23.020640</td>\n",
       "      <td>1.456485e+09</td>\n",
       "      <td>21.099292</td>\n",
       "      <td>0</td>\n",
       "      <td>0.039493</td>\n",
       "      <td>-1.000270</td>\n",
       "    </tr>\n",
       "    <tr>\n",
       "      <th>1</th>\n",
       "      <td>2007-01-31</td>\n",
       "      <td>000006.SZ</td>\n",
       "      <td>3.025348e+05</td>\n",
       "      <td>1.236908e+09</td>\n",
       "      <td>1.772558e+08</td>\n",
       "      <td>55.7914</td>\n",
       "      <td>-20.4864</td>\n",
       "      <td>0</td>\n",
       "      <td>CI005023.WI</td>\n",
       "      <td>0.081375</td>\n",
       "      <td>0</td>\n",
       "      <td>交易</td>\n",
       "      <td>12.619952</td>\n",
       "      <td>20.935881</td>\n",
       "      <td>1.772558e+08</td>\n",
       "      <td>18.993104</td>\n",
       "      <td>0</td>\n",
       "      <td>-1.233260</td>\n",
       "      <td>-0.932409</td>\n",
       "    </tr>\n",
       "    <tr>\n",
       "      <th>2</th>\n",
       "      <td>2007-01-31</td>\n",
       "      <td>000007.SZ</td>\n",
       "      <td>5.382492e+04</td>\n",
       "      <td>6.396426e+07</td>\n",
       "      <td>-2.582537e+07</td>\n",
       "      <td>88.7987</td>\n",
       "      <td>78.1794</td>\n",
       "      <td>0</td>\n",
       "      <td>CI005023.WI</td>\n",
       "      <td>0.294960</td>\n",
       "      <td>0</td>\n",
       "      <td>交易</td>\n",
       "      <td>10.893492</td>\n",
       "      <td>17.973835</td>\n",
       "      <td>2.582537e+07</td>\n",
       "      <td>17.066868</td>\n",
       "      <td>1</td>\n",
       "      <td>0.958505</td>\n",
       "      <td>-0.025166</td>\n",
       "    </tr>\n",
       "  </tbody>\n",
       "</table>\n",
       "</div>"
      ],
      "text/plain": [
       "        date       code       totalmv      netasset     netprofit      lev  \\\n",
       "0 2007-01-31  000002.SZ  6.690315e+06  9.948030e+09  1.456485e+09  72.1260   \n",
       "1 2007-01-31  000006.SZ  3.025348e+05  1.236908e+09  1.772558e+08  55.7914   \n",
       "2 2007-01-31  000007.SZ  5.382492e+04  6.396426e+07 -2.582537e+07  88.7987   \n",
       "\n",
       "   yoysales  rd     industry     retf1  limit status      logmv  lognetasset  \\\n",
       "0   50.5017   0  CI005023.WI -0.037233      0     交易  15.716172    23.020640   \n",
       "1  -20.4864   0  CI005023.WI  0.081375      0     交易  12.619952    20.935881   \n",
       "2   78.1794   0  CI005023.WI  0.294960      0     交易  10.893492    17.973835   \n",
       "\n",
       "   netprofit_abs  lognetprofit  ni_negative  linear_spemv  rf_spemv  \n",
       "0   1.456485e+09     21.099292            0      0.039493 -1.000270  \n",
       "1   1.772558e+08     18.993104            0     -1.233260 -0.932409  \n",
       "2   2.582537e+07     17.066868            1      0.958505 -0.025166  "
      ]
     },
     "execution_count": 38,
     "metadata": {},
     "output_type": "execute_result"
    }
   ],
   "source": [
    "data.head(3)"
   ]
  },
  {
   "cell_type": "markdown",
   "metadata": {},
   "source": [
    "## In second part, we will test the factors by IC and group backtest method"
   ]
  },
  {
   "cell_type": "markdown",
   "metadata": {},
   "source": [
    "### Define IC method"
   ]
  },
  {
   "cell_type": "code",
   "execution_count": 39,
   "metadata": {
    "collapsed": true
   },
   "outputs": [],
   "source": [
    "def ic_timeseries(data,factor_name):\n",
    "    \n",
    "    assert('date' in data.columns)\n",
    "    assert(factor_name in data.columns)\n",
    "    \n",
    "    dtList = list(data.date.drop_duplicates())\n",
    "    rank_ic = []\n",
    "    for dt in dtList:\n",
    "        data1 = data[data.date == dt]\n",
    "        rank_ic.append(data1[[factor_name,'retf1']].corr(method='spearman').values[0][1])\n",
    "\n",
    "    return pd.DataFrame(rank_ic,index=dtList,columns=['ic']) "
   ]
  },
  {
   "cell_type": "code",
   "execution_count": 40,
   "metadata": {
    "collapsed": true
   },
   "outputs": [],
   "source": [
    "def show_ic_analysis(data,factor_name):\n",
    "\n",
    "    ic_ts = ic_timeseries(data,factor_name)\n",
    "    \n",
    "    fig = plt.figure(figsize=(12, 12))\n",
    "    ax1 = fig.add_subplot(3, 1, 1)\n",
    "    ax2 = fig.add_subplot(3, 1, 2)\n",
    "    ax3 = fig.add_subplot(3, 1, 3)\n",
    "\n",
    "    title1 = '%s IC time series' % factor_name\n",
    "    ic_ts.plot(title=title1, ax=ax1)\n",
    "\n",
    "    title2 = '%s IC histogram' % factor_name\n",
    "    ic_ts.plot.hist(stacked=True, bins=20, title=title2, ax=ax2)\n",
    "\n",
    "    title3 = '%s IC Box-plot' % factor_name\n",
    "    ic_ts.plot.box(sym='r+', title=title3, ax=ax3)\n",
    "\n",
    "    plt.tight_layout()\n",
    "    plt.show()\n",
    "    return "
   ]
  },
  {
   "cell_type": "markdown",
   "metadata": {},
   "source": [
    "### Define group backtest method"
   ]
  },
  {
   "cell_type": "code",
   "execution_count": 41,
   "metadata": {
    "collapsed": true
   },
   "outputs": [],
   "source": [
    "def group_backtest(data,factor_name,groups):\n",
    "    \n",
    "    assert('date' in data.columns)\n",
    "    assert(factor_name in data.columns)\n",
    "    \n",
    "    gp_rets = {}\n",
    "    benchmark_rets = {}\n",
    "    \n",
    "    dtList = list(data.date.drop_duplicates())\n",
    "    for dt in dtList:\n",
    "        df = data[data.date == dt]\n",
    "        df['group'] = pd.qcut(df[factor_name], groups, labels=['Top%d' % i for i in range(1, groups + 1)])\n",
    "        gp_rets[dt] = df.groupby(['group']).retf1.mean()\n",
    "        benchmark_rets[dt] = df['retf1'].mean()\n",
    "        \n",
    "    rets_df = pd.DataFrame(gp_rets).T\n",
    "    rets_df.columns = rets_df.columns.categories  #transform the CategoricalIndex to Index so that merge benchmark\n",
    "    rets_df = pd.concat([rets_df,pd.DataFrame(benchmark_rets,index=['benchmark']).T],axis=1)\n",
    "    rets_df['Top1/Top%d' % groups] =  rets_df.Top1 - rets_df['Top%d' % groups]\n",
    "    rets_df['Top%d/benchmark' % groups] = rets_df['Top%d' % groups] - rets_df.benchmark\n",
    "    rets_df['Top1/benchmark'] = rets_df['Top1'] - rets_df.benchmark\n",
    "    rets_df = (rets_df+1).cumprod() \n",
    "    \n",
    "    return rets_df"
   ]
  },
  {
   "cell_type": "code",
   "execution_count": 42,
   "metadata": {
    "collapsed": true
   },
   "outputs": [],
   "source": [
    "def show_group_analysis(data,factor_name,groups):\n",
    "    \n",
    "    col = ['Top%d' % i for i in range(1,groups+1)]\n",
    "    col.extend(['benchmark'])\n",
    "    pnls = group_backtest(data,factor_name,groups)\n",
    "    pnls2 = pnls.loc[:, col]\n",
    "\n",
    "    fig = plt.figure(figsize=(12, 15))\n",
    "    ax1 = fig.add_subplot(3, 1, 1)\n",
    "    ax2 = fig.add_subplot(3, 1, 2)\n",
    "    ax3 = fig.add_subplot(3, 1, 3)\n",
    "\n",
    "    pnls2.plot(title='%s net value of different groups' % factor_name, ax=ax1)\n",
    "    pnls2.iloc[:,:-1].div(pnls.benchmark,axis=0).plot(title='%s net value to benchmark' % factor_name, ax=ax2)\n",
    "    pnls.loc[:,['Top1/Top%d' % groups]].plot(ax=ax3,title='%s Top1 Vs Top%d net value ratio' % (factor_name, groups))\n",
    "    plt.tight_layout()\n",
    "    plt.show()\n",
    "    \n",
    "    return"
   ]
  }
 ],
 "metadata": {
  "kernelspec": {
   "display_name": "Python 3",
   "language": "python",
   "name": "python3"
  },
  "language_info": {
   "codemirror_mode": {
    "name": "ipython",
    "version": 3
   },
   "file_extension": ".py",
   "mimetype": "text/x-python",
   "name": "python",
   "nbconvert_exporter": "python",
   "pygments_lexer": "ipython3",
   "version": "3.6.1"
  }
 },
 "nbformat": 4,
 "nbformat_minor": 2
}
