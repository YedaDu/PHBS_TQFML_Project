{
 "cells": [
  {
   "cell_type": "markdown",
   "metadata": {},
   "source": [
    "# Idiosyncratic Market Value Factor: \n",
    "# Explaining market value by machine learning methods"
   ]
  },
  {
   "cell_type": "markdown",
   "metadata": {},
   "source": [
    "## Idea\n",
    "At a given specific time point, market value explanition models think market values of listed firms can be explained by theirs financial informations and market factors.  \n",
    "Under such assumptions, these models will induce an intrinsic market value of a listed firms at a specific time, however, there's always a residue term, which is also the difference between intrinsic value and current market value.  \n",
    "We name this residue term as Idiosyncratic Market Value Factor, larger this factor is, indicating more upper bias is between current firm value and intrinsic value, by the idea of mean-reverting, it is more likely for the stock price to drop.  \n",
    "In other words, this is a way of relative valuation and a smaller IMVF indicates a better performance of the stock. "
   ]
  },
  {
   "cell_type": "markdown",
   "metadata": {},
   "source": [
    "## Variables explanation\n",
    "* $ m_{it} $ is the log-market value of stock $i$ at time $t$  \n",
    "* $ IND_{it} $ is the dummy variables of different industries  \n",
    "* $ b_{it} $ is the log-net asset of stock $i$ at time $t$, except firms whose net asset is negtive    \n",
    "* $ Ln(NI)^+_{it}$ and $ Ln(NI)^-_{it}$ are net income of stock $i$ at time $t$ according to whether their sign  \n",
    "* $ LEV_{it} $ is firm's financial leverage  \n",
    "* $ g_{it} $ is the revenue growth rate (YoY quarterly)   \n",
    "* $ RD_{it} $ is the log-R&D expense, None is replaced by 0  "
   ]
  },
  {
   "cell_type": "markdown",
   "metadata": {},
   "source": [
    "# First sight: Linear Regression\n",
    "\n",
    "Consider following model:  \n",
    "$$ m_{it} = a_{0t}IND_{it}+a_{1t}b_{it}+a_{2t}Ln(NI)^+a_{3t}I_{<0}Ln(NI)^-_{it}+a_{4t}LEV_{it}+a_{5t}g_{it}+a_{6t}RD_{it}+\\epsilon_{it} $$"
   ]
  },
  {
   "cell_type": "markdown",
   "metadata": {},
   "source": [
    "## Machine Learning method: Random Forest\n",
    "Consider Random Forest model:  \n",
    "$$ m_{it} = RF(IND_{it},b_{it},Ln(NI)^,Ln(NI)^-_{it},LEV_{it},g_{it},RD_{it})+\\epsilon_{it} $$"
   ]
  },
  {
   "cell_type": "code",
   "execution_count": 20,
   "metadata": {
    "collapsed": true
   },
   "outputs": [],
   "source": [
    "import numpy as np\n",
    "import pandas as pd\n",
    "import matplotlib.pyplot as plt\n",
    "import warnings\n",
    "warnings.filterwarnings('ignore')"
   ]
  },
  {
   "cell_type": "code",
   "execution_count": 21,
   "metadata": {
    "collapsed": true
   },
   "outputs": [],
   "source": [
    "from quarter2month import quarter2month\n",
    "from Winsorize_Fillna_Neutralize import Winsorize_Fillna_Neutralize\n",
    "import statsmodels.api as sm\n",
    "from sklearn.tree import DecisionTreeRegressor  \n",
    "from sklearn.ensemble import RandomForestRegressor"
   ]
  },
  {
   "cell_type": "markdown",
   "metadata": {},
   "source": [
    "## In this part, we will construct the idiosyncratic market value"
   ]
  },
  {
   "cell_type": "markdown",
   "metadata": {},
   "source": [
    "### Load the raw data"
   ]
  },
  {
   "cell_type": "code",
   "execution_count": 9,
   "metadata": {
    "collapsed": true
   },
   "outputs": [],
   "source": [
    "# Input raw data\n",
    "comp_frm=pd.read_csv('./data/industrycomp.csv')\n",
    "netasset_raw=pd.read_excel('./data/netasset.xlsx')\n",
    "netprofit_raw=pd.read_excel('./data/netprofit_q.xlsx')\n",
    "lev_raw=pd.read_excel('./data/debt2asset.xlsx')\n",
    "yoysales_raw=pd.read_excel('./data/yoysales.xlsx')\n",
    "rd_raw=pd.read_excel('./data/rd.xlsx')\n",
    "value_frm=pd.read_csv('./data/value.csv')\n",
    "retf1_frm=pd.read_csv('./data/retf1.csv')\n",
    "limit_status_frm=pd.read_csv('./data/limit_status_st.csv',encoding='gb18030')\n",
    "tdate=list(value_frm['date'].drop_duplicates())"
   ]
  },
  {
   "cell_type": "markdown",
   "metadata": {},
   "source": [
    "### Transform the seasonal data to monthly data"
   ]
  },
  {
   "cell_type": "code",
   "execution_count": 10,
   "metadata": {
    "collapsed": true
   },
   "outputs": [],
   "source": [
    "netasset_frm=quarter2month(tdate,netasset_raw,'netasset')\n",
    "netprofit_frm=quarter2month(tdate,netprofit_raw,'netprofit')\n",
    "lev_frm=quarter2month(tdate,lev_raw,'lev')\n",
    "yoysales_frm=quarter2month(tdate,yoysales_raw,'yoysales')\n",
    "rd_frm=quarter2month(tdate,rd_raw,'rd')"
   ]
  },
  {
   "cell_type": "markdown",
   "metadata": {},
   "source": [
    "### Merge data"
   ]
  },
  {
   "cell_type": "code",
   "execution_count": 11,
   "metadata": {
    "collapsed": true
   },
   "outputs": [],
   "source": [
    "data=pd.merge(value_frm,netasset_frm,how='inner',on=['date','code'])\n",
    "data=pd.merge(data,netprofit_frm,how='inner',on=['date','code'])\n",
    "data=pd.merge(data,lev_frm,how='inner',on=['date','code'])\n",
    "data=pd.merge(data,yoysales_frm,how='inner',on=['date','code'])\n",
    "data=pd.merge(data,rd_frm,how='inner',on=['date','code'])\n",
    "data=pd.merge(data,comp_frm,how='inner',on=['code'])\n",
    "data=pd.merge(data,retf1_frm,how='inner',on=['date','code'])\n",
    "data=pd.merge(data,limit_status_frm,how='inner',on=['date','code'])\n",
    "data=data[['date','code','totalmv','netasset','netprofit','lev','yoysales','rd','industry','retf1','limit','status']]"
   ]
  },
  {
   "cell_type": "code",
   "execution_count": 17,
   "metadata": {},
   "outputs": [
    {
     "data": {
      "text/html": [
       "<div>\n",
       "<style scoped>\n",
       "    .dataframe tbody tr th:only-of-type {\n",
       "        vertical-align: middle;\n",
       "    }\n",
       "\n",
       "    .dataframe tbody tr th {\n",
       "        vertical-align: top;\n",
       "    }\n",
       "\n",
       "    .dataframe thead th {\n",
       "        text-align: right;\n",
       "    }\n",
       "</style>\n",
       "<table border=\"1\" class=\"dataframe\">\n",
       "  <thead>\n",
       "    <tr style=\"text-align: right;\">\n",
       "      <th></th>\n",
       "      <th>date</th>\n",
       "      <th>code</th>\n",
       "      <th>totalmv</th>\n",
       "      <th>netasset</th>\n",
       "      <th>netprofit</th>\n",
       "      <th>lev</th>\n",
       "      <th>yoysales</th>\n",
       "      <th>rd</th>\n",
       "      <th>industry</th>\n",
       "      <th>retf1</th>\n",
       "      <th>limit</th>\n",
       "      <th>status</th>\n",
       "      <th>logmv</th>\n",
       "      <th>lognetasset</th>\n",
       "      <th>netprofit_abs</th>\n",
       "      <th>lognetprofit</th>\n",
       "      <th>ni_negative</th>\n",
       "    </tr>\n",
       "  </thead>\n",
       "  <tbody>\n",
       "    <tr>\n",
       "      <th>121</th>\n",
       "      <td>20070131</td>\n",
       "      <td>000002.SZ</td>\n",
       "      <td>6.690315e+06</td>\n",
       "      <td>9.948030e+09</td>\n",
       "      <td>1.456485e+09</td>\n",
       "      <td>72.1260</td>\n",
       "      <td>50.5017</td>\n",
       "      <td>0.0</td>\n",
       "      <td>CI005023.WI</td>\n",
       "      <td>-0.037233</td>\n",
       "      <td>0.0</td>\n",
       "      <td>交易</td>\n",
       "      <td>15.716172</td>\n",
       "      <td>23.020640</td>\n",
       "      <td>1.456485e+09</td>\n",
       "      <td>21.099292</td>\n",
       "      <td>0.0</td>\n",
       "    </tr>\n",
       "    <tr>\n",
       "      <th>450</th>\n",
       "      <td>20070131</td>\n",
       "      <td>000006.SZ</td>\n",
       "      <td>3.025348e+05</td>\n",
       "      <td>1.236908e+09</td>\n",
       "      <td>1.772558e+08</td>\n",
       "      <td>55.7914</td>\n",
       "      <td>-20.4864</td>\n",
       "      <td>0.0</td>\n",
       "      <td>CI005023.WI</td>\n",
       "      <td>0.081375</td>\n",
       "      <td>0.0</td>\n",
       "      <td>交易</td>\n",
       "      <td>12.619952</td>\n",
       "      <td>20.935881</td>\n",
       "      <td>1.772558e+08</td>\n",
       "      <td>18.993104</td>\n",
       "      <td>0.0</td>\n",
       "    </tr>\n",
       "    <tr>\n",
       "      <th>573</th>\n",
       "      <td>20070131</td>\n",
       "      <td>000007.SZ</td>\n",
       "      <td>5.382492e+04</td>\n",
       "      <td>6.396426e+07</td>\n",
       "      <td>-2.582537e+07</td>\n",
       "      <td>88.7987</td>\n",
       "      <td>78.1794</td>\n",
       "      <td>0.0</td>\n",
       "      <td>CI005023.WI</td>\n",
       "      <td>0.294960</td>\n",
       "      <td>0.0</td>\n",
       "      <td>交易</td>\n",
       "      <td>10.893492</td>\n",
       "      <td>17.973835</td>\n",
       "      <td>2.582537e+07</td>\n",
       "      <td>17.066868</td>\n",
       "      <td>1.0</td>\n",
       "    </tr>\n",
       "    <tr>\n",
       "      <th>621</th>\n",
       "      <td>20070131</td>\n",
       "      <td>000008.SZ</td>\n",
       "      <td>4.124580e+04</td>\n",
       "      <td>7.230798e+07</td>\n",
       "      <td>-6.278618e+05</td>\n",
       "      <td>7.1045</td>\n",
       "      <td>-74.1205</td>\n",
       "      <td>0.0</td>\n",
       "      <td>CI005010.WI</td>\n",
       "      <td>0.143159</td>\n",
       "      <td>0.0</td>\n",
       "      <td>交易</td>\n",
       "      <td>10.627304</td>\n",
       "      <td>18.096445</td>\n",
       "      <td>6.278618e+05</td>\n",
       "      <td>13.350075</td>\n",
       "      <td>1.0</td>\n",
       "    </tr>\n",
       "    <tr>\n",
       "      <th>1036</th>\n",
       "      <td>20070131</td>\n",
       "      <td>000012.SZ</td>\n",
       "      <td>1.298777e+06</td>\n",
       "      <td>2.559077e+09</td>\n",
       "      <td>3.173672e+08</td>\n",
       "      <td>55.4746</td>\n",
       "      <td>28.0972</td>\n",
       "      <td>0.0</td>\n",
       "      <td>CI005008.WI</td>\n",
       "      <td>0.133759</td>\n",
       "      <td>0.0</td>\n",
       "      <td>交易</td>\n",
       "      <td>14.076934</td>\n",
       "      <td>21.662912</td>\n",
       "      <td>3.173672e+08</td>\n",
       "      <td>19.575570</td>\n",
       "      <td>0.0</td>\n",
       "    </tr>\n",
       "  </tbody>\n",
       "</table>\n",
       "</div>"
      ],
      "text/plain": [
       "          date       code       totalmv      netasset     netprofit      lev  \\\n",
       "121   20070131  000002.SZ  6.690315e+06  9.948030e+09  1.456485e+09  72.1260   \n",
       "450   20070131  000006.SZ  3.025348e+05  1.236908e+09  1.772558e+08  55.7914   \n",
       "573   20070131  000007.SZ  5.382492e+04  6.396426e+07 -2.582537e+07  88.7987   \n",
       "621   20070131  000008.SZ  4.124580e+04  7.230798e+07 -6.278618e+05   7.1045   \n",
       "1036  20070131  000012.SZ  1.298777e+06  2.559077e+09  3.173672e+08  55.4746   \n",
       "\n",
       "      yoysales   rd     industry     retf1  limit status      logmv  \\\n",
       "121    50.5017  0.0  CI005023.WI -0.037233    0.0     交易  15.716172   \n",
       "450   -20.4864  0.0  CI005023.WI  0.081375    0.0     交易  12.619952   \n",
       "573    78.1794  0.0  CI005023.WI  0.294960    0.0     交易  10.893492   \n",
       "621   -74.1205  0.0  CI005010.WI  0.143159    0.0     交易  10.627304   \n",
       "1036   28.0972  0.0  CI005008.WI  0.133759    0.0     交易  14.076934   \n",
       "\n",
       "      lognetasset  netprofit_abs  lognetprofit  ni_negative  \n",
       "121     23.020640   1.456485e+09     21.099292          0.0  \n",
       "450     20.935881   1.772558e+08     18.993104          0.0  \n",
       "573     17.973835   2.582537e+07     17.066868          1.0  \n",
       "621     18.096445   6.278618e+05     13.350075          1.0  \n",
       "1036    21.662912   3.173672e+08     19.575570          0.0  "
      ]
     },
     "execution_count": 17,
     "metadata": {},
     "output_type": "execute_result"
    }
   ],
   "source": [
    "data.head()"
   ]
  }
 ],
 "metadata": {
  "kernelspec": {
   "display_name": "Python 3",
   "language": "python",
   "name": "python3"
  },
  "language_info": {
   "codemirror_mode": {
    "name": "ipython",
    "version": 3
   },
   "file_extension": ".py",
   "mimetype": "text/x-python",
   "name": "python",
   "nbconvert_exporter": "python",
   "pygments_lexer": "ipython3",
   "version": "3.6.1"
  }
 },
 "nbformat": 4,
 "nbformat_minor": 2
}
